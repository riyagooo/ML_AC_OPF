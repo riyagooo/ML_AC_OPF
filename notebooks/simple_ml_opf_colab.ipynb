{
 "cells": [
  {
   "cell_type": "markdown",
   "metadata": {},
   "source": [
    "# Simple ML-OPF Colab Notebook\n",
    "\n",
    "This notebook provides a simplified interface for training ML models for Optimal Power Flow (OPF) problems in Google Colab."
   ]
  },
  {
   "cell_type": "markdown",
   "metadata": {},
   "source": [
    "## 1. Setup\n",
    "\n",
    "First, we need to set up the environment and clone the repository."
   ]
  },
  {
   "cell_type": "code",
   "execution_count": null,
   "metadata": {},
   "outputs": [],
   "source": [
    "# Install required packages\n",
    "!pip install torch>=2.0.0 numpy>=1.20.0 matplotlib>=3.5.0 pandas>=1.3.0 scikit-learn>=1.0.0 scipy>=1.7.0 pypower>=5.1.0 networkx>=2.6.0 torch-geometric>=2.0.0 tqdm>=4.60.0"
   ]
  },
  {
   "cell_type": "code",
   "execution_count": null,
   "metadata": {},
   "outputs": [],
   "source": [
    "# Clone the repository if not already done\n",
    "import os\n",
    "if not os.path.exists('ML_AC_OPF'):\n",
    "    !git clone https://github.com/yourusername/ML_AC_OPF.git\n",
    "\n",
    "# Change to the repository directory\n",
    "%cd ML_AC_OPF"
   ]
  },
  {
   "cell_type": "code",
   "execution_count": null,
   "metadata": {},
   "outputs": [],
   "source": [
    "# Download required data\n",
    "!python scripts/download_data.py --case case118"
   ]
  },
  {
   "cell_type": "markdown",
   "metadata": {},
   "source": [
    "## 2. Import Libraries"
   ]
  },
  {
   "cell_type": "code",
   "execution_count": null,
   "metadata": {},
   "outputs": [],
   "source": [
    "import os\n",
    "import sys\n",
    "import torch\n",
    "import numpy as np\n",
    "import pandas as pd\n",
    "import matplotlib.pyplot as plt\n",
    "from torch.utils.data import DataLoader\n",
    "import networkx as nx\n",
    "\n",
    "# Add this to ensure imports work correctly\n",
    "sys.path.append('.')\n",
    "\n",
    "# Import project modules\n",
    "from utils.data_utils import load_pglib_data, load_case_network, prepare_data_loaders, create_power_network_graph, OPFDataset\n",
    "from utils.training import Trainer, optimality_gap_metric\n",
    "from models.feedforward import FeedForwardNN, WarmStartNN\n",
    "from models.gnn import TopologyAwareGNN, HybridGNN, prepare_pyg_data"
   ]
  },
  {
   "cell_type": "markdown",
   "metadata": {},
   "source": [
    "## 3. Load and Prepare Data"
   ]
  },
  {
   "cell_type": "code",
   "execution_count": null,
   "metadata": {},
   "outputs": [],
   "source": [
    "# Set parameters\n",
    "case_name = 'case118'\n",
    "data_dir = 'data'\n",
    "batch_size = 32\n",
    "device = torch.device('cuda' if torch.cuda.is_available() else 'cpu')\n",
    "print(f\"Using device: {device}\")\n",
    "\n",
    "# Create log directory\n",
    "log_dir = 'logs'\n",
    "os.makedirs(log_dir, exist_ok=True)\n",
    "\n",
    "# Load data\n",
    "print(f\"Loading data for {case_name}...\")\n",
    "data = load_pglib_data(case_name, data_dir)\n",
    "case_data = load_case_network(case_name, data_dir)\n",
    "print(f\"Data loaded: {len(data)} samples\")\n",
    "\n",
    "# Extract input and output columns based on CSV column format\n",
    "input_cols = [col for col in data.columns if col.startswith('load')]\n",
    "if not input_cols:\n",
    "    # Try alternative naming pattern\n",
    "    input_cols = [col for col in data.columns if ':pl' in col or ':ql' in col]\n",
    "\n",
    "output_cols = [col for col in data.columns if col.startswith('gen') or col.startswith('bus')]\n",
    "if not output_cols:\n",
    "    # Try alternative naming pattern\n",
    "    output_cols = [col for col in data.columns if ':pg' in col or ':qg' in col or ':v_' in col]\n",
    "\n",
    "print(f\"Input features: {len(input_cols)}\")\n",
    "print(f\"Output features: {len(output_cols)}\")\n",
    "\n",
    "# Prepare data loaders\n",
    "train_loader, val_loader, test_loader = prepare_data_loaders(\n",
    "    data, input_cols, output_cols, batch_size=batch_size)"
   ]
  },
  {
   "cell_type": "markdown",
   "metadata": {},
   "source": [
    "## 4. Train a Feedforward Neural Network"
   ]
  },
  {
   "cell_type": "code",
   "execution_count": null,
   "metadata": {},
   "outputs": [],
   "source": [
    "# Define model parameters\n",
    "input_dim = len(input_cols)\n",
    "output_dim = len(output_cols)\n",
    "hidden_dims = [128, 256, 128]\n",
    "learning_rate = 0.001\n",
    "epochs = 10\n",
    "\n",
    "# Initialize model\n",
    "model = FeedForwardNN(input_dim=input_dim, output_dim=output_dim, hidden_dims=hidden_dims)\n",
    "model = model.to(device)\n",
    "\n",
    "# Try to create cost coefficients for metrics\n",
    "try:\n",
    "    cost_coeffs = torch.tensor(\n",
    "        [coef[5] for coef in case_data['gencost']], \n",
    "        dtype=torch.float32,\n",
    "        device=device\n",
    "    )\n",
    "    metrics = {\n",
    "        'opt_gap': lambda pred, target: optimality_gap_metric(pred, target, cost_coeffs)\n",
    "    }\n",
    "except (IndexError, KeyError) as e:\n",
    "    print(f\"Warning: Error getting cost coefficients: {e}. Using MSE metrics only.\")\n",
    "    metrics = {}\n",
    "\n",
    "# Initialize trainer\n",
    "trainer = Trainer(\n",
    "    model=model,\n",
    "    optimizer=torch.optim.Adam(model.parameters(), lr=learning_rate),\n",
    "    criterion=torch.nn.MSELoss(),\n",
    "    device=device,\n",
    "    log_dir=log_dir\n",
    ")\n",
    "\n",
    "# Train model\n",
    "print(f\"Training feedforward model for {epochs} epochs...\")\n",
    "history = trainer.train(\n",
    "    train_loader=train_loader,\n",
    "    val_loader=val_loader,\n",
    "    epochs=epochs,\n",
    "    metrics=metrics,\n",
    "    save_best=True,\n",
    "    early_stopping=5\n",
    ")"
   ]
  },
  {
   "cell_type": "markdown",
   "metadata": {},
   "source": [
    "## 5. Evaluate the Model"
   ]
  },
  {
   "cell_type": "code",
   "execution_count": null,
   "metadata": {},
   "outputs": [],
   "source": [
    "# Plot training history\n",
    "trainer.plot_history()\n",
    "\n",
    "# Load best model and evaluate on test set\n",
    "trainer.load_best_model()\n",
    "test_loss, test_metrics = trainer.validate(test_loader, metrics)\n",
    "print(f\"Test Loss: {test_loss:.6f}\")\n",
    "for name, value in test_metrics.items():\n",
    "    print(f\"Test {name}: {value:.6f}\")\n",
    "\n",
    "# Make predictions on test set\n",
    "predictions, targets = trainer.predict(test_loader)\n",
    "\n",
    "# Plot predictions vs targets for a few outputs\n",
    "plt.figure(figsize=(15, 5))\n",
    "output_indices = min(5, output_dim)\n",
    "for i in range(output_indices):\n",
    "    plt.subplot(1, output_indices, i+1)\n",
    "    plt.scatter(targets[:, i], predictions[:, i], alpha=0.3)\n",
    "    plt.plot([min(targets[:, i]), max(targets[:, i])], [min(targets[:, i]), max(targets[:, i])], 'r--')\n",
    "    plt.xlabel('Target')\n",
    "    plt.ylabel('Prediction')\n",
    "    plt.title(f'Output {i}')\n",
    "plt.tight_layout()\n",
    "plt.savefig(os.path.join(log_dir, 'predictions_vs_targets.png'))\n",
    "plt.show()"
   ]
  },
  {
   "cell_type": "markdown",
   "metadata": {},
   "source": [
    "## 6. Try a Graph Neural Network\n",
    "\n",
    "Now let's try training a GNN model that's aware of the power system topology."
   ]
  },
  {
   "cell_type": "code",
   "execution_count": null,
   "metadata": {},
   "outputs": [],
   "source": [
    "# Create a graph from the case data\n",
    "G = create_power_network_graph(case_data)\n",
    "print(f\"Created graph with {G.number_of_nodes()} nodes and {G.number_of_edges()} edges\")\n",
    "\n",
    "# Visualize the graph\n",
    "plt.figure(figsize=(10, 10))\n",
    "pos = nx.spring_layout(G, seed=42)\n",
    "nx.draw(G, pos, with_labels=True, node_color='lightblue', node_size=500, font_size=10)\n",
    "plt.title('Power System Network')\n",
    "plt.savefig(os.path.join(log_dir, 'power_system_graph.png'))\n",
    "plt.show()\n",
    "\n",
    "# For a more detailed implementation of GNN training, you would need to:\n",
    "# 1. Convert the NetworkX graph to PyTorch Geometric format using prepare_pyg_data\n",
    "# 2. Create a custom dataset class that returns both features and graph data\n",
    "# 3. Initialize a GNN model (TopologyAwareGNN or HybridGNN)\n",
    "# 4. Train the model similar to how we trained the feedforward network\n",
    "\n",
    "print(\"For a complete GNN implementation, please refer to scripts/local_gnn.py\")"
   ]
  },
  {
   "cell_type": "markdown",
   "metadata": {},
   "source": [
    "## 7. Save the Model\n",
    "\n",
    "Finally, let's save the trained model for future use."
   ]
  },
  {
   "cell_type": "code",
   "execution_count": null,
   "metadata": {},
   "outputs": [],
   "source": [
    "# Save the model\n",
    "model_path = os.path.join(log_dir, f'{case_name}_model.pt')\n",
    "torch.save({\n",
    "    'model_state_dict': model.state_dict(),\n",
    "    'input_cols': input_cols,\n",
    "    'output_cols': output_cols,\n",
    "    'hidden_dims': hidden_dims,\n",
    "    'test_loss': test_loss\n",
    "}, model_path)\n",
    "print(f\"Model saved to {model_path}\")"
   ]
  }
 ],
 "metadata": {
  "kernelspec": {
   "display_name": "Python 3",
   "language": "python",
   "name": "python3"
  },
  "language_info": {
   "codemirror_mode": {
    "name": "ipython",
    "version": 3
   },
   "file_extension": ".py",
   "mimetype": "text/x-python",
   "name": "python",
   "nbconvert_exporter": "python",
   "pygments_lexer": "ipython3",
   "version": "3.10.16"
  }
 },
 "nbformat": 4,
 "nbformat_minor": 4
}